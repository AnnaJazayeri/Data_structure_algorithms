{
 "cells": [
  {
   "cell_type": "markdown",
   "id": "41da939b",
   "metadata": {},
   "source": [
    "# Problem 1"
   ]
  },
  {
   "cell_type": "markdown",
   "id": "b0ac5fe1",
   "metadata": {},
   "source": [
    "    231. Power of Two\n",
    "    Easy\n",
    "    Topics\n",
    "    Companies\n",
    "    Given an integer n, return true if it is a power of two. Otherwise, return false.\n",
    "\n",
    "    An integer n is a power of two, if there exists an integer x such that n == 2x.\n",
    "\n",
    "    Example 1:\n",
    "    Input: n = 1\n",
    "    Output: true\n",
    "    Explanation: 20 = 1\n",
    "    Example 2:\n",
    "\n",
    "    Input: n = 16\n",
    "    Output: true\n",
    "    Explanation: 24 = 16\n",
    "    Example 3:\n",
    "\n",
    "    Input: n = 3\n",
    "    Output: false\n",
    "\n",
    "\n",
    "    Constraints:\n",
    "\n",
    "    -231 <= n <= 231 - 1\n",
    "\n",
    "\n",
    "    Follow up: Could you solve it without loops/recursion?\n",
    "    \n",
    "    \n",
    "    class Solution(object):\n",
    "    def isPowerOfTwo(self, n):\n",
    "        \"\"\"\n",
    "        :type n: int\n",
    "        :rtype: bool\n",
    "        \"\"\""
   ]
  },
  {
   "cell_type": "code",
   "execution_count": 5,
   "id": "b849bf4e",
   "metadata": {},
   "outputs": [
    {
     "name": "stdout",
     "output_type": "stream",
     "text": [
      "True\n"
     ]
    }
   ],
   "source": [
    "class Solution(object):\n",
    "    def isPowerOfTwo(self, n):\n",
    "        \"\"\"\n",
    "        :type n: int\n",
    "        :rtype: bool\n",
    "        \"\"\"\n",
    "        return (n & (n - 1)) == 0\n",
    "\n",
    "# Create an instance of the class\n",
    "sol = Solution()\n",
    "\n",
    "# Call the isPowerOfTwo method\n",
    "print(sol.isPowerOfTwo(1))"
   ]
  },
  {
   "cell_type": "markdown",
   "id": "ef5bb1f5",
   "metadata": {},
   "source": [
    "    Explaination: When you use the & operator between two integers, Python performs the bitwise AND operation on each corresponding pair of bits in their binary representations. The result is an integer that represents the binary AND of the original numbers.\n",
    "    Let's go through a few examples to illustrate how the bitwise AND operation works in checking for common set bits:\n",
    "\n",
    "    Example: n = 8\n",
    "\n",
    "    Binary representation of 8: 1000\n",
    "    Binary representation of (n - 1), where n = 8: 0111\n",
    "    Bitwise AND: 1000 & 0111 = 0000\n",
    "    Result is 0, indicating that there are no common set bits.\n",
    "    Example: n = 16\n",
    "\n",
    "    Binary representation of 16: 10000\n",
    "    Binary representation of (n - 1), where n = 16: 01111\n",
    "    Bitwise AND: 10000 & 01111 = 00000\n",
    "    Result is 0, indicating that there are no common set bits.\n",
    "    Example: n = 12\n",
    "\n",
    "    Binary representation of 12: 1100\n",
    "    Binary representation of (n - 1), where n = 12: 1011\n",
    "    Bitwise AND: 1100 & 1011 = 1000\n",
    "    Result is not 0, indicating that there are common set bits.\n",
    "    Example: n = 5\n",
    "\n",
    "    Binary representation of 5: 101\n",
    "    Binary representation of (n - 1), where n = 5: 100\n",
    "    Bitwise AND: 101 & 100 = 100\n",
    "    Result is not 0, indicating that there are common set bits.\n",
    "    In summary, when the result of the bitwise AND operation is 0, it means that there are no common set bits between the binary representation of n and (n - 1), which happens when n is a power of two. If the result is not 0, it indicates that there are common set bits, and n is not a power of two."
   ]
  },
  {
   "cell_type": "markdown",
   "id": "7fe0098a",
   "metadata": {},
   "source": [
    "# Problem 2"
   ]
  },
  {
   "cell_type": "code",
   "execution_count": null,
   "id": "399de14a",
   "metadata": {},
   "outputs": [],
   "source": []
  },
  {
   "cell_type": "code",
   "execution_count": null,
   "id": "5dea950a",
   "metadata": {},
   "outputs": [],
   "source": []
  },
  {
   "cell_type": "code",
   "execution_count": null,
   "id": "6aeb1ba3",
   "metadata": {},
   "outputs": [],
   "source": []
  },
  {
   "cell_type": "code",
   "execution_count": null,
   "id": "8cc4e429",
   "metadata": {},
   "outputs": [],
   "source": []
  },
  {
   "cell_type": "code",
   "execution_count": null,
   "id": "8aad5917",
   "metadata": {},
   "outputs": [],
   "source": []
  },
  {
   "cell_type": "code",
   "execution_count": null,
   "id": "fbc91629",
   "metadata": {},
   "outputs": [],
   "source": []
  },
  {
   "cell_type": "code",
   "execution_count": null,
   "id": "a6f5dbe9",
   "metadata": {},
   "outputs": [],
   "source": []
  },
  {
   "cell_type": "code",
   "execution_count": null,
   "id": "412f0bf0",
   "metadata": {},
   "outputs": [],
   "source": []
  },
  {
   "cell_type": "code",
   "execution_count": null,
   "id": "ba6a3b95",
   "metadata": {},
   "outputs": [],
   "source": []
  }
 ],
 "metadata": {
  "kernelspec": {
   "display_name": "Python 3 (ipykernel)",
   "language": "python",
   "name": "python3"
  },
  "language_info": {
   "codemirror_mode": {
    "name": "ipython",
    "version": 3
   },
   "file_extension": ".py",
   "mimetype": "text/x-python",
   "name": "python",
   "nbconvert_exporter": "python",
   "pygments_lexer": "ipython3",
   "version": "3.11.5"
  }
 },
 "nbformat": 4,
 "nbformat_minor": 5
}
