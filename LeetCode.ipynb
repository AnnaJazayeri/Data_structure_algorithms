{
 "cells": [
  {
   "cell_type": "markdown",
   "id": "41da939b",
   "metadata": {},
   "source": [
    "# Problem 1: Power of Two"
   ]
  },
  {
   "cell_type": "markdown",
   "id": "b0ac5fe1",
   "metadata": {},
   "source": [
    "    231. Power of Two\n",
    "    Easy\n",
    "    Topics\n",
    "    Companies\n",
    "    Given an integer n, return true if it is a power of two. Otherwise, return false.\n",
    "\n",
    "    An integer n is a power of two, if there exists an integer x such that n == 2x.\n",
    "\n",
    "    Example 1:\n",
    "    Input: n = 1\n",
    "    Output: true\n",
    "    Explanation: 20 = 1\n",
    "    Example 2:\n",
    "\n",
    "    Input: n = 16\n",
    "    Output: true\n",
    "    Explanation: 24 = 16\n",
    "    Example 3:\n",
    "\n",
    "    Input: n = 3\n",
    "    Output: false\n",
    "\n",
    "\n",
    "    Constraints:\n",
    "\n",
    "    -231 <= n <= 231 - 1\n",
    "\n",
    "\n",
    "    Follow up: Could you solve it without loops/recursion?\n",
    "    \n",
    "    \n",
    "    class Solution(object):\n",
    "    def isPowerOfTwo(self, n):\n",
    "        \"\"\"\n",
    "        :type n: int\n",
    "        :rtype: bool\n",
    "        \"\"\""
   ]
  },
  {
   "cell_type": "code",
   "execution_count": 5,
   "id": "b849bf4e",
   "metadata": {},
   "outputs": [
    {
     "name": "stdout",
     "output_type": "stream",
     "text": [
      "True\n"
     ]
    }
   ],
   "source": [
    "class Solution(object):\n",
    "    def isPowerOfTwo(self, n):\n",
    "        \"\"\"\n",
    "        :type n: int\n",
    "        :rtype: bool\n",
    "        \"\"\"\n",
    "        return (n & (n - 1)) == 0\n",
    "\n",
    "# Create an instance of the class\n",
    "sol = Solution()\n",
    "\n",
    "# Call the isPowerOfTwo method\n",
    "print(sol.isPowerOfTwo(1))"
   ]
  },
  {
   "cell_type": "markdown",
   "id": "ef5bb1f5",
   "metadata": {},
   "source": [
    "    Explaination: When you use the & operator between two integers, Python performs the bitwise AND operation on each corresponding pair of bits in their binary representations. The result is an integer that represents the binary AND of the original numbers.\n",
    "    Let's go through a few examples to illustrate how the bitwise AND operation works in checking for common set bits:\n",
    "\n",
    "    Example: n = 8\n",
    "\n",
    "    Binary representation of 8: 1000\n",
    "    Binary representation of (n - 1), where n = 8: 0111\n",
    "    Bitwise AND: 1000 & 0111 = 0000\n",
    "    Result is 0, indicating that there are no common set bits.\n",
    "    Example: n = 16\n",
    "\n",
    "    Binary representation of 16: 10000\n",
    "    Binary representation of (n - 1), where n = 16: 01111\n",
    "    Bitwise AND: 10000 & 01111 = 00000\n",
    "    Result is 0, indicating that there are no common set bits.\n",
    "    Example: n = 12\n",
    "\n",
    "    Binary representation of 12: 1100\n",
    "    Binary representation of (n - 1), where n = 12: 1011\n",
    "    Bitwise AND: 1100 & 1011 = 1000\n",
    "    Result is not 0, indicating that there are common set bits.\n",
    "    Example: n = 5\n",
    "\n",
    "    Binary representation of 5: 101\n",
    "    Binary representation of (n - 1), where n = 5: 100\n",
    "    Bitwise AND: 101 & 100 = 100\n",
    "    Result is not 0, indicating that there are common set bits.\n",
    "    In summary, when the result of the bitwise AND operation is 0, it means that there are no common set bits between the binary representation of n and (n - 1), which happens when n is a power of two. If the result is not 0, it indicates that there are common set bits, and n is not a power of two."
   ]
  },
  {
   "cell_type": "markdown",
   "id": "7fe0098a",
   "metadata": {},
   "source": [
    "# Problem 2: Two Sum"
   ]
  },
  {
   "cell_type": "markdown",
   "id": "c692d0c9",
   "metadata": {},
   "source": [
    "    Given an array of integers nums and an integer target, return indices of the two numbers such that they add up to target.\n",
    "    You may assume that each input would have exactly one solution, and you may not use the same element twice.\n",
    "    You can return the answer in any order.\n",
    "    Example 1: Input: nums = [2,7,11,15], target = 9 Output: [0,1]\n",
    "    Explanation: Because nums[0] + nums[1] == 9, we return [0, 1].\n",
    "    Example 2: Input: nums = [3,2,4], target = 6 Output: [1,2]\n",
    "    Example 3: Input: nums = [3,3], target = 6 Output: [0,1]\n",
    "    Constraints:\n",
    "    •\t2 <= nums.length <= 104\n",
    "    •\t-109 <= nums[i] <= 109\n",
    "    •\t-109 <= target <= 109\n",
    "    •\tOnly one valid answer exists.\n",
    "\n",
    "    Follow-up: Can you come up with an algorithm that is less than O(n2) time complexity?\n"
   ]
  },
  {
   "cell_type": "code",
   "execution_count": 1,
   "id": "5dea950a",
   "metadata": {},
   "outputs": [],
   "source": [
    "# My answer: \n",
    "class Solution(object):\n",
    "    def twoSum(self, nums, target):\n",
    "        \"\"\"\n",
    "        :type nums: List[int]\n",
    "        :type target: int\n",
    "        :rtype: List[int]\n",
    "        \"\"\"\n",
    "        li = []\n",
    "\n",
    "        for i in range(len(nums)):\n",
    "            for j in range(i + 1, len(nums)):\n",
    "                if nums[i] + nums[j] == target:\n",
    "                    li.append(i)\n",
    "                    li.append(j)\n",
    "        return li\n"
   ]
  },
  {
   "cell_type": "code",
   "execution_count": null,
   "id": "6aeb1ba3",
   "metadata": {},
   "outputs": [],
   "source": [
    "# Their answer: \n",
    "class Solution:\n",
    "    def twoSum(self, nums: List[int], target: int) -> List[int]:\n",
    "        numMap = {}\n",
    "        n = len(nums)\n",
    "\n",
    "        for i in range(n):\n",
    "            complement = target - nums[i]\n",
    "            if complement in numMap:\n",
    "                return [numMap[complement], i]\n",
    "            numMap[nums[i]] = i\n",
    "\n",
    "        return []  # No solution found\n"
   ]
  },
  {
   "cell_type": "markdown",
   "id": "418c472c",
   "metadata": {},
   "source": [
    "# Problem 3: Valid Parentheses"
   ]
  },
  {
   "cell_type": "markdown",
   "id": "8b8f6cfc",
   "metadata": {},
   "source": [
    "    Valid Parentheses\n",
    "    Given a string s containing just the characters '(', ')', '{', '}', '[' and ']', determine if the input string is valid.\n",
    "    An input string is valid if:\n",
    "    1.\tOpen brackets must be closed by the same type of brackets.\n",
    "    2.\tOpen brackets must be closed in the correct order.\n",
    "    3.\tEvery close bracket has a corresponding open bracket of the same type.\n",
    "\n",
    "    Example 1: Input: s = \"()\" Output: true\n",
    "    Example 2: Input: s = \"()[]{}\" Output: true\n",
    "    Example 3: Input: s = \"(]\" Output: false\n",
    "     Constraints:\n",
    "    •\t1 <= s.length <= 104\n",
    "    •\ts consists of parentheses only '()[]{}'.\n"
   ]
  },
  {
   "cell_type": "code",
   "execution_count": 2,
   "id": "8aad5917",
   "metadata": {},
   "outputs": [],
   "source": [
    "# My answer: \n",
    "class Solution(object):\n",
    "    def isValid(self, s):\n",
    "        \"\"\"\n",
    "        :type s: str\n",
    "        :rtype: bool\n",
    "        \"\"\"\n",
    "        stack =[]\n",
    "        char_map = {')':'(', ']': '[', '}':'{'}\n",
    "        \n",
    "        for char in s:\n",
    "            if char in char_map.values():\n",
    "                stack.append(char)\n",
    "            elif char in char_map:\n",
    "                if not stack or stack.pop() != char_map[char]:\n",
    "                    return False\n",
    "        return not stack\n",
    "\n",
    "# Their answer: I did not like it too long."
   ]
  },
  {
   "cell_type": "markdown",
   "id": "c300d812",
   "metadata": {},
   "source": [
    "# Problem 4: Merge Two Sorted List"
   ]
  },
  {
   "cell_type": "markdown",
   "id": "2d23bcfe",
   "metadata": {},
   "source": [
    "    Merge Two Sorted Lists\n",
    "    You are given the heads of two sorted linked lists list1 and list2.\n",
    "    Merge the two lists into one sorted list. The list should be made by splicing together the nodes of the first two lists.\n",
    "    Return the head of the merged linked list.\n",
    "    Example 1: Input: list1 = [1,2,4], list2 = [1,3,4] Output: [1,1,2,3,4,4]\n",
    "    Example 2: Input: list1 = [], list2 = [] Output: []\n",
    "    Example 3: Input: list1 = [], list2 = [0] Output: [0]\n",
    "    Constraints:\n",
    "    •\tThe number of nodes in both lists is in the range [0, 50].\n",
    "    •\t-100 <= Node.val <= 100\n",
    "    •\tBoth list1 and list2 are sorted in non-decreasing order.\n"
   ]
  },
  {
   "cell_type": "code",
   "execution_count": 3,
   "id": "412f0bf0",
   "metadata": {},
   "outputs": [],
   "source": [
    "# My answer: Did not have one.\n",
    "# Their answer: \n",
    "\n",
    "# Definition for singly-linked list.\n",
    "# class ListNode(object):\n",
    "#     def __init__(self, val=0, next=None):\n",
    "#         self.val = val\n",
    "#         self.next = next\n",
    "class Solution(object):\n",
    "    def mergeTwoLists(self, list1, list2):\n",
    "        \"\"\"\n",
    "        :type list1: Optional[ListNode]\n",
    "        :type list2: Optional[ListNode]\n",
    "        :rtype: Optional[ListNode]\n",
    "        \"\"\"\n",
    "        # dummy is a new ListNode with a value of 0. This is a dummy node that will help in building the merged list.\n",
    "        dummy = ListNode(0)\n",
    "        # current is initially set to dummy. It is used to traverse and build the merged list.\n",
    "        current = dummy\n",
    "        \n",
    "        # This while loop continues until either list1 or list2 becomes empty.\n",
    "        while list1 and list2:\n",
    "            # following if-else statment ensures that nodes are added to the merged list in ascending order.\n",
    "            # If the value of the current node in list1 is less than or equal to the value of the current node in list2, \n",
    "            if list1.val <= list2.val:\n",
    "                # the next node in the merged list (current.next) is set to list1\n",
    "                current.next = list1\n",
    "                # and list1 is moved to its next node.\n",
    "                list1 = list1.next\n",
    "            # but if the value of the current node in list1 is greater than the value of the current node in list2\n",
    "            else: \n",
    "                # the next node in the merged list is set to list2\n",
    "                current.next = list2\n",
    "                # and list2 is moved to its next node.\n",
    "                list2 = list2.next\n",
    "                \n",
    "            # now we will move the current to the newly added node in the merged list.\n",
    "            current = current.next\n",
    "            \n",
    "        # If one list is longer than the other the following section ensures that \n",
    "        # the remaining nodes in that list are appended to the merged list.\n",
    "        if list1:\n",
    "            current.next = list1\n",
    "        elif list2:\n",
    "            current.next = list2\n",
    "\n",
    "        return dummy.next\n"
   ]
  },
  {
   "cell_type": "code",
   "execution_count": null,
   "id": "ba6a3b95",
   "metadata": {},
   "outputs": [],
   "source": []
  },
  {
   "cell_type": "code",
   "execution_count": null,
   "id": "dd68ff17",
   "metadata": {},
   "outputs": [],
   "source": []
  },
  {
   "cell_type": "code",
   "execution_count": null,
   "id": "82118fea",
   "metadata": {},
   "outputs": [],
   "source": []
  },
  {
   "cell_type": "code",
   "execution_count": null,
   "id": "e158cc59",
   "metadata": {},
   "outputs": [],
   "source": []
  },
  {
   "cell_type": "code",
   "execution_count": null,
   "id": "f59e3baa",
   "metadata": {},
   "outputs": [],
   "source": []
  },
  {
   "cell_type": "code",
   "execution_count": null,
   "id": "c5d4d803",
   "metadata": {},
   "outputs": [],
   "source": []
  },
  {
   "cell_type": "code",
   "execution_count": null,
   "id": "2fedb97b",
   "metadata": {},
   "outputs": [],
   "source": []
  }
 ],
 "metadata": {
  "kernelspec": {
   "display_name": "Python 3 (ipykernel)",
   "language": "python",
   "name": "python3"
  },
  "language_info": {
   "codemirror_mode": {
    "name": "ipython",
    "version": 3
   },
   "file_extension": ".py",
   "mimetype": "text/x-python",
   "name": "python",
   "nbconvert_exporter": "python",
   "pygments_lexer": "ipython3",
   "version": "3.11.5"
  }
 },
 "nbformat": 4,
 "nbformat_minor": 5
}
