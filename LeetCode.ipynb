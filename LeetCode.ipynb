{
 "cells": [
  {
   "cell_type": "markdown",
   "id": "41da939b",
   "metadata": {},
   "source": [
    "## Problem 1: Power of Two"
   ]
  },
  {
   "cell_type": "markdown",
   "id": "b0ac5fe1",
   "metadata": {},
   "source": [
    "    231. Power of Two\n",
    "    Easy\n",
    "    Topics\n",
    "    Companies\n",
    "    Given an integer n, return true if it is a power of two. Otherwise, return false.\n",
    "\n",
    "    An integer n is a power of two, if there exists an integer x such that n == 2x.\n",
    "\n",
    "    Example 1:\n",
    "    Input: n = 1\n",
    "    Output: true\n",
    "    Explanation: 20 = 1\n",
    "    Example 2:\n",
    "\n",
    "    Input: n = 16\n",
    "    Output: true\n",
    "    Explanation: 24 = 16\n",
    "    Example 3:\n",
    "\n",
    "    Input: n = 3\n",
    "    Output: false\n",
    "\n",
    "\n",
    "    Constraints:\n",
    "\n",
    "    -231 <= n <= 231 - 1\n",
    "\n",
    "\n",
    "    Follow up: Could you solve it without loops/recursion?\n",
    "    \n",
    "    \n",
    "    class Solution(object):\n",
    "    def isPowerOfTwo(self, n):\n",
    "        \"\"\"\n",
    "        :type n: int\n",
    "        :rtype: bool\n",
    "        \"\"\""
   ]
  },
  {
   "cell_type": "code",
   "execution_count": 5,
   "id": "b849bf4e",
   "metadata": {},
   "outputs": [
    {
     "name": "stdout",
     "output_type": "stream",
     "text": [
      "True\n"
     ]
    }
   ],
   "source": [
    "class Solution(object):\n",
    "    def isPowerOfTwo(self, n):\n",
    "        \"\"\"\n",
    "        :type n: int\n",
    "        :rtype: bool\n",
    "        \"\"\"\n",
    "        return (n & (n - 1)) == 0\n",
    "\n",
    "# Create an instance of the class\n",
    "sol = Solution()\n",
    "\n",
    "# Call the isPowerOfTwo method\n",
    "print(sol.isPowerOfTwo(1))"
   ]
  },
  {
   "cell_type": "markdown",
   "id": "ef5bb1f5",
   "metadata": {},
   "source": [
    "    Explaination: When you use the & operator between two integers, Python performs the bitwise AND operation on each corresponding pair of bits in their binary representations. The result is an integer that represents the binary AND of the original numbers.\n",
    "    Let's go through a few examples to illustrate how the bitwise AND operation works in checking for common set bits:\n",
    "\n",
    "    Example: n = 8\n",
    "\n",
    "    Binary representation of 8: 1000\n",
    "    Binary representation of (n - 1), where n = 8: 0111\n",
    "    Bitwise AND: 1000 & 0111 = 0000\n",
    "    Result is 0, indicating that there are no common set bits.\n",
    "    Example: n = 16\n",
    "\n",
    "    Binary representation of 16: 10000\n",
    "    Binary representation of (n - 1), where n = 16: 01111\n",
    "    Bitwise AND: 10000 & 01111 = 00000\n",
    "    Result is 0, indicating that there are no common set bits.\n",
    "    Example: n = 12\n",
    "\n",
    "    Binary representation of 12: 1100\n",
    "    Binary representation of (n - 1), where n = 12: 1011\n",
    "    Bitwise AND: 1100 & 1011 = 1000\n",
    "    Result is not 0, indicating that there are common set bits.\n",
    "    Example: n = 5\n",
    "\n",
    "    Binary representation of 5: 101\n",
    "    Binary representation of (n - 1), where n = 5: 100\n",
    "    Bitwise AND: 101 & 100 = 100\n",
    "    Result is not 0, indicating that there are common set bits.\n",
    "    In summary, when the result of the bitwise AND operation is 0, it means that there are no common set bits between the binary representation of n and (n - 1), which happens when n is a power of two. If the result is not 0, it indicates that there are common set bits, and n is not a power of two."
   ]
  },
  {
   "cell_type": "markdown",
   "id": "7fe0098a",
   "metadata": {},
   "source": [
    "## Problem 2: Two Sum"
   ]
  },
  {
   "cell_type": "markdown",
   "id": "b47db66d",
   "metadata": {},
   "source": [
    "    Given an array of integers nums and an integer target, return indices of the two numbers such that they add up to target.\n",
    "    You may assume that each input would have exactly one solution, and you may not use the same element twice.\n",
    "    You can return the answer in any order.\n",
    "    Example 1: Input: nums = [2,7,11,15], target = 9 Output: [0,1]\n",
    "    Explanation: Because nums[0] + nums[1] == 9, we return [0, 1].\n",
    "    Example 2: Input: nums = [3,2,4], target = 6 Output: [1,2]\n",
    "    Example 3: Input: nums = [3,3], target = 6 Output: [0,1]\n",
    "    Constraints:\n",
    "    •\t2 <= nums.length <= 104\n",
    "    •\t-109 <= nums[i] <= 109\n",
    "    •\t-109 <= target <= 109\n",
    "    •\tOnly one valid answer exists.\n",
    "\n",
    "    Follow-up: Can you come up with an algorithm that is less than O(n2) time complexity?\n"
   ]
  },
  {
   "cell_type": "code",
   "execution_count": 1,
   "id": "5dea950a",
   "metadata": {},
   "outputs": [],
   "source": [
    "class Solution(object):\n",
    "    def twoSum(self, nums, target):\n",
    "        \"\"\"\n",
    "        :type nums: List[int]\n",
    "        :type target: int\n",
    "        :rtype: List[int]\n",
    "        \"\"\"\n",
    "        li = []\n",
    "\n",
    "        for i in range(len(nums)):\n",
    "            for j in range(i + 1, len(nums)):\n",
    "                if nums[i] + nums[j] == target:\n",
    "                    li.append(i)\n",
    "                    li.append(j)\n",
    "        return li\n"
   ]
  },
  {
   "cell_type": "code",
   "execution_count": null,
   "id": "6aeb1ba3",
   "metadata": {},
   "outputs": [],
   "source": [
    "class Solution:\n",
    "    def twoSum(self, nums: List[int], target: int) -> List[int]:\n",
    "        numMap = {}\n",
    "        n = len(nums)\n",
    "\n",
    "        for i in range(n):\n",
    "            complement = target - nums[i]\n",
    "            if complement in numMap:\n",
    "                return [numMap[complement], i]\n",
    "            numMap[nums[i]] = i\n",
    "\n",
    "        return []  # No solution found\n"
   ]
  },
  {
   "cell_type": "markdown",
   "id": "fd1facca",
   "metadata": {},
   "source": [
    "## Problem 3: Valid Parentheses"
   ]
  },
  {
   "cell_type": "markdown",
   "id": "2848e202",
   "metadata": {},
   "source": [
    "    Valid Parentheses\n",
    "    Given a string s containing just the characters '(', ')', '{', '}', '[' and ']', determine if the input string is valid.\n",
    "    An input string is valid if:\n",
    "    1.\tOpen brackets must be closed by the same type of brackets.\n",
    "    2.\tOpen brackets must be closed in the correct order.\n",
    "    3.\tEvery close bracket has a corresponding open bracket of the same type.\n",
    "\n",
    "    Example 1: Input: s = \"()\" Output: true\n",
    "    Example 2: Input: s = \"()[]{}\" Output: true\n",
    "    Example 3: Input: s = \"(]\" Output: false\n",
    "     Constraints:\n",
    "    •\t1 <= s.length <= 104\n",
    "    •\ts consists of parentheses only '()[]{}'.\n"
   ]
  },
  {
   "cell_type": "code",
   "execution_count": 2,
   "id": "8aad5917",
   "metadata": {},
   "outputs": [],
   "source": [
    "class Solution(object):\n",
    "    def isValid(self, s):\n",
    "        \"\"\"\n",
    "        :type s: str\n",
    "        :rtype: bool\n",
    "        \"\"\"\n",
    "        stack =[]\n",
    "        char_map = {')':'(', ']': '[', '}':'{'}\n",
    "        \n",
    "        for char in s:\n",
    "            if char in char_map.values():\n",
    "                stack.append(char)\n",
    "            elif char in char_map:\n",
    "                if not stack or stack.pop() != char_map[char]:\n",
    "                    return False\n",
    "        return not stack\n",
    "\n",
    "# Their answer: I did not like it too long."
   ]
  },
  {
   "cell_type": "markdown",
   "id": "9afa7795",
   "metadata": {},
   "source": [
    "## Problem 4: Merge Two Sorted List"
   ]
  },
  {
   "cell_type": "markdown",
   "id": "8489fbb7",
   "metadata": {},
   "source": [
    "    Merge Two Sorted Lists\n",
    "    You are given the heads of two sorted linked lists list1 and list2.\n",
    "    Merge the two lists into one sorted list. The list should be made by splicing together the nodes of the first two lists.\n",
    "    Return the head of the merged linked list.\n",
    "    Example 1: Input: list1 = [1,2,4], list2 = [1,3,4] Output: [1,1,2,3,4,4]\n",
    "    Example 2: Input: list1 = [], list2 = [] Output: []\n",
    "    Example 3: Input: list1 = [], list2 = [0] Output: [0]\n",
    "    Constraints:\n",
    "    •\tThe number of nodes in both lists is in the range [0, 50].\n",
    "    •\t-100 <= Node.val <= 100\n",
    "    •\tBoth list1 and list2 are sorted in non-decreasing order.\n"
   ]
  },
  {
   "cell_type": "code",
   "execution_count": 5,
   "id": "412f0bf0",
   "metadata": {},
   "outputs": [],
   "source": [
    "# Definition for singly-linked list.\n",
    "# class ListNode(object):\n",
    "#     def __init__(self, val=0, next=None):\n",
    "#         self.val = val\n",
    "#         self.next = next\n",
    "class Solution(object):\n",
    "    def mergeTwoLists(self, list1, list2):\n",
    "        \"\"\"\n",
    "        :type list1: Optional[ListNode]\n",
    "        :type list2: Optional[ListNode]\n",
    "        :rtype: Optional[ListNode]\n",
    "        \"\"\"\n",
    "        # dummy is a new ListNode with a value of 0. This is a dummy node that will help in building the merged list.\n",
    "        dummy = ListNode(0)\n",
    "        # current is initially set to dummy. It is used to traverse and build the merged list.\n",
    "        current = dummy\n",
    "        \n",
    "        # This while loop continues until either list1 or list2 becomes empty.\n",
    "        while list1 and list2:\n",
    "            # following if-else statment ensures that nodes are added to the merged list in ascending order.\n",
    "            # If the value of the current node in list1 is less than or equal to the value of the current node in list2, \n",
    "            if list1.val <= list2.val:\n",
    "                # the next node in the merged list (current.next) is set to list1\n",
    "                current.next = list1\n",
    "                # and list1 is moved to its next node.\n",
    "                list1 = list1.next\n",
    "            # but if the value of the current node in list1 is greater than the value of the current node in list2\n",
    "            else: \n",
    "                # the next node in the merged list is set to list2\n",
    "                current.next = list2\n",
    "                # and list2 is moved to its next node.\n",
    "                list2 = list2.next\n",
    "                \n",
    "            # now we will move the current to the newly added node in the merged list.\n",
    "            current = current.next\n",
    "            \n",
    "        # If one list is longer than the other the following section ensures that \n",
    "        # the remaining nodes in that list are appended to the merged list.\n",
    "        if list1:\n",
    "            current.next = list1\n",
    "        elif list2:\n",
    "            current.next = list2\n",
    "\n",
    "        return dummy.next\n",
    "\n",
    "    \n",
    "    \n",
    "# Version without comments: \n",
    "class Solution(object):\n",
    "    def mergeTwoLists(self, list1, list2):\n",
    "\n",
    "        dummy = ListNode(0)\n",
    "        current = dummy\n",
    "\n",
    "        while list1 and list2: \n",
    "            if list1.val <= list2.val:\n",
    "                current.next = list1\n",
    "                list1 = list1.next\n",
    "            else: \n",
    "                current.next = list2\n",
    "                list2 = list2.next\n",
    "            current = current.next\n",
    "\n",
    "        if list1:\n",
    "            current.next = list1\n",
    "        elif list2:\n",
    "            current.next = list2\n",
    "\n",
    "        return dummy.next"
   ]
  },
  {
   "cell_type": "markdown",
   "id": "4c7ee8f8",
   "metadata": {},
   "source": [
    "    The reason for using a dummy node instead of setting current directly to a new node is to simplify the handling of the head of the merged list.\n",
    "    In a linked list, the head is the first node, and it's common to return the head of the list as the result of a merging operation. By using a dummy node, you have a consistent reference (dummy.next) to the head of the merged list throughout the merging process.\n",
    "    \n",
    "    In the context of the mergeTwoLists function, dummy is a dummy node, which is a placeholder node used to simplify the manipulation of linked lists. It is a common technique in algorithms involving linked lists.\n",
    "    \n",
    "    Here's how it is used in the function:\n",
    "    \n",
    "    dummy = ListNode(0) \n",
    "    current = dummy \n",
    "    \n",
    "    In this code, a new ListNode object is created with the value 0, and dummy is set to reference this node. current is also initialized to reference the same node initially. The purpose of the dummy node is to serve as the starting point of the merged list. Throughout the merging process, current is updated to point to the last node in the merged list, allowing for the easy insertion of new nodes.\n",
    "    \n",
    "    This technique is helpful because it avoids handling the head of the merged list separately, making the code cleaner and more straightforward.\n"
   ]
  },
  {
   "cell_type": "markdown",
   "id": "4e337483",
   "metadata": {},
   "source": [
    "## Problem 5: Best Time to Buy and Sell Stock"
   ]
  },
  {
   "cell_type": "markdown",
   "id": "e42f1833",
   "metadata": {},
   "source": [
    "    You are given an array prices where prices[i] is the price of a given stock on the ith day.\n",
    "\n",
    "    You want to maximize your profit by choosing a single day to buy one stock and choosing a different day in the future to sell that stock.\n",
    "\n",
    "    Return the maximum profit you can achieve from this transaction. If you cannot achieve any profit, return 0.\n",
    "\n",
    "\n",
    "\n",
    "    Example 1:\n",
    "\n",
    "    Input: prices = [7,1,5,3,6,4]\n",
    "    Output: 5\n",
    "    Explanation: Buy on day 2 (price = 1) and sell on day 5 (price = 6), profit = 6-1 = 5.\n",
    "    Note that buying on day 2 and selling on day 1 is not allowed because you must buy before you sell.\n",
    "    \n",
    "    \n",
    "    Example 2:\n",
    "\n",
    "    Input: prices = [7,6,4,3,1]\n",
    "    Output: 0\n",
    "    Explanation: In this case, no transactions are done and the max profit = 0.\n",
    "\n",
    "\n",
    "    Constraints:\n",
    "\n",
    "    1 <= prices.length <= 105\n",
    "    0 <= prices[i] <= 104"
   ]
  },
  {
   "cell_type": "code",
   "execution_count": 6,
   "id": "cbadbbe1",
   "metadata": {},
   "outputs": [],
   "source": [
    "class Solution(object):\n",
    "    def maxProfit(self, prices):\n",
    "        \"\"\"\n",
    "        :type prices: List[int]\n",
    "        :rtype: int\n",
    "        \"\"\"\n",
    "        lowest_price = prices[0]\n",
    "        max_profit = 0\n",
    "        \n",
    "        for i in range(len(prices)):\n",
    "            lowest_price = min(lowest_price, prices[i])\n",
    "            max_profit = max(max_profit, prices[i] - lowest_price)\n",
    "       \n",
    "        return max_profit"
   ]
  },
  {
   "cell_type": "markdown",
   "id": "be967989",
   "metadata": {},
   "source": [
    "## Problem 6: Valid Palindrome"
   ]
  },
  {
   "cell_type": "markdown",
   "id": "b7832cfc",
   "metadata": {},
   "source": [
    "    Valid Palindrome\n",
    "    A phrase is a palindrome if, after converting all uppercase letters into lowercase letters and removing all non-alphanumeric characters, it reads the same forward and backward. Alphanumeric characters include letters and numbers.\n",
    "\n",
    "    Given a string s, return true if it is a palindrome, or false otherwise.\n",
    "\n",
    "\n",
    "\n",
    "    Example 1:\n",
    "    Input: s = \"A man, a plan, a canal: Panama\"\n",
    "    Output: true\n",
    "    Explanation: \"amanaplanacanalpanama\" is a palindrome.\n",
    "    \n",
    "    Example 2:\n",
    "    Input: s = \"race a car\"\n",
    "    Output: false\n",
    "    Explanation: \"raceacar\" is not a palindrome.\n",
    "    \n",
    "    Example 3:\n",
    "    Input: s = \" \"\n",
    "    Output: true\n",
    "    Explanation: s is an empty string \"\" after removing non-alphanumeric characters.\n",
    "    Since an empty string reads the same forward and backward, it is a palindrome.\n",
    "\n",
    "\n",
    "    Constraints:\n",
    "\n",
    "    1 <= s.length <= 2 * 105\n",
    "    s consists only of printable ASCII characters."
   ]
  },
  {
   "cell_type": "code",
   "execution_count": 24,
   "id": "efaee18a",
   "metadata": {},
   "outputs": [
    {
     "name": "stdout",
     "output_type": "stream",
     "text": [
      "True\n",
      "False\n"
     ]
    }
   ],
   "source": [
    "class Solution(object):\n",
    "    def isPalindrome(self, s):\n",
    "        \"\"\"\n",
    "        :type s: str\n",
    "        :rtype: bool\n",
    "        \"\"\"\n",
    "        new_s = ''\n",
    "        for i in s:\n",
    "            if i.isalnum():  # Check if the character is alphanumeric\n",
    "                new_s += i.lower()\n",
    "        return new_s == new_s[::-1]\n",
    "                \n",
    "    \n",
    "solution6 = Solution()\n",
    "print(solution6.isPalindrome(\"A man, a plan, a canal: Panama\"))\n",
    "print(solution6.isPalindrome(\"0P\"))"
   ]
  },
  {
   "cell_type": "markdown",
   "id": "b720df56",
   "metadata": {},
   "source": [
    "## Problem 7: Invert Binary Tree"
   ]
  },
  {
   "cell_type": "markdown",
   "id": "e776248a",
   "metadata": {},
   "source": [
    "    Given the root of a binary tree, invert the tree, and return its root.\n",
    "\n",
    "    Example 1: Input: root = [4,2,7,1,3,6,9] Output: [4,7,2,9,6,3,1]\n",
    "    Example 2: Input: root = [2,1,3] Output: [2,3,1]\n",
    "    Example 3: Input: root = [] Output: []\n",
    "\n",
    "\n",
    "    Constraints:\n",
    "    The number of nodes in the tree is in the range [0, 100].\n",
    "    -100 <= Node.val <= 100"
   ]
  },
  {
   "cell_type": "markdown",
   "id": "7a2c6b66",
   "metadata": {},
   "source": [
    "    In this question we have to Invert the binary tree.\n",
    "    So we use Post Order Treversal in which first we go in Left subtree and then in Right subtree then we return back to Parent node.\n",
    "    When we come back to the parent node we swap it's Left subtree and Right subtree.\n",
    "    "
   ]
  },
  {
   "cell_type": "code",
   "execution_count": 38,
   "id": "9da2831f",
   "metadata": {},
   "outputs": [],
   "source": [
    "# Definition for a binary tree node.\n",
    "# class TreeNode(object):\n",
    "#     def __init__(self, val=0, left=None, right=None):\n",
    "#            self.val = val\n",
    "#            self.left = left\n",
    "#            self.right = right\n",
    "\n",
    "class Solution(object):\n",
    "    def invertTree(self, root):\n",
    "        \"\"\"\n",
    "        :type root: TreeNode\n",
    "        :rtype: TreeNode\n",
    "        \"\"\"\n",
    "        if not root:\n",
    "            return root\n",
    "\n",
    "        # Swap left and right subtrees\n",
    "        root.left, root.right = root.right, root.left\n",
    "\n",
    "        # Recursively invert left and right subtrees\n",
    "        self.invertTree(root.left)\n",
    "        self.invertTree(root.right)\n",
    "\n",
    "        return root\n"
   ]
  },
  {
   "cell_type": "markdown",
   "id": "84e0fcfe",
   "metadata": {},
   "source": [
    "## Problem 8:Valid Anagram"
   ]
  },
  {
   "cell_type": "markdown",
   "id": "26b48cd2",
   "metadata": {},
   "source": [
    "    Given two strings s and t, return true if t is an anagram of s, and false otherwise.\n",
    "\n",
    "    An Anagram is a word or phrase formed by rearranging the letters of a different word or phrase, typically using all the original letters exactly once.\n",
    "\n",
    "    Example 1:\n",
    "    Input: s = \"anagram\", t = \"nagaram\"\n",
    "    Output: true\n",
    "\n",
    "    Example 2:\n",
    "    Input: s = \"rat\", t = \"car\"\n",
    "    Output: false\n",
    "\n",
    "\n",
    "    Constraints:\n",
    "    1 <= s.length, t.length <= 5 * 104\n",
    "    s and t consist of lowercase English letters.\n",
    "\n",
    "\n",
    "    Follow up: What if the inputs contain Unicode characters? How would you adapt your solution to such a case?"
   ]
  },
  {
   "cell_type": "code",
   "execution_count": null,
   "id": "4bf0f30f",
   "metadata": {},
   "outputs": [],
   "source": [
    "class Solution(object):\n",
    "    def isAnagram(self, s, t):\n",
    "        sorted_s = sorted(s)\n",
    "        sorted_t = sorted(t)\n",
    "        return sorted_s == sorted_t"
   ]
  },
  {
   "cell_type": "code",
   "execution_count": null,
   "id": "ef7e5ad5",
   "metadata": {},
   "outputs": [],
   "source": []
  },
  {
   "cell_type": "code",
   "execution_count": null,
   "id": "6a5533a1",
   "metadata": {},
   "outputs": [],
   "source": []
  },
  {
   "cell_type": "code",
   "execution_count": null,
   "id": "5412f29b",
   "metadata": {},
   "outputs": [],
   "source": []
  }
 ],
 "metadata": {
  "kernelspec": {
   "display_name": "Python 3 (ipykernel)",
   "language": "python",
   "name": "python3"
  },
  "language_info": {
   "codemirror_mode": {
    "name": "ipython",
    "version": 3
   },
   "file_extension": ".py",
   "mimetype": "text/x-python",
   "name": "python",
   "nbconvert_exporter": "python",
   "pygments_lexer": "ipython3",
   "version": "3.11.5"
  }
 },
 "nbformat": 4,
 "nbformat_minor": 5
}
