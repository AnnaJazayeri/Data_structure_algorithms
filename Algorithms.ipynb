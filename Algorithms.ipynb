{
 "cells": [
  {
   "cell_type": "markdown",
   "id": "b9d76b9e",
   "metadata": {},
   "source": [
    "# Arrays\n",
    "\n",
    "### Example: A box of DVDs\n",
    "An array is a collection of Items. The items can be anyting.\n",
    "\n",
    "programmer will choose the size of the array when they write the code.\n",
    "\n",
    "Index in array start from 0 to n-1"
   ]
  },
  {
   "cell_type": "code",
   "execution_count": 1,
   "id": "d079ab28",
   "metadata": {},
   "outputs": [],
   "source": [
    "# create an Array to hold up to 15 DVDs\n",
    "class DVD:\n",
    "    def __init__(self, name, releaseYear, director):\n",
    "        self.name = name\n",
    "        self.releaseYear = releaseYear\n",
    "        self.director = director\n",
    "\n",
    "    def __str__(self):\n",
    "        return f\"{self.name}, directed by {self.director}, released in {self.releaseYear}\"\n",
    "\n",
    "dvdCollection = [None] * 15\n"
   ]
  },
  {
   "cell_type": "markdown",
   "id": "d91aaae2",
   "metadata": {},
   "source": [
    "#### Inserting to an array"
   ]
  },
  {
   "cell_type": "code",
   "execution_count": 4,
   "id": "55c76fae",
   "metadata": {},
   "outputs": [],
   "source": [
    "# Firstly, we need to actually create a DVD object for The Avengers.\n",
    "avengers_dvd = DVD(\"The Avengers\", 2012, \"Joss Whedon\")\n",
    "# Next, we'll put it into the 8th place of the Array. Remember, because we\n",
    "# started numbering from 0, the index we want is 7.\n",
    "dvdCollection[7] = avengers_dvd"
   ]
  },
  {
   "cell_type": "code",
   "execution_count": 3,
   "id": "a0edc94a",
   "metadata": {},
   "outputs": [],
   "source": [
    "incrediblesDVD = DVD(\"The Incredibles\", 2004, \"Brad Bird\")\n",
    "dvdCollection[3] = incrediblesDVD\n",
    "\n",
    "findingDoryDVD = DVD(\"Finding Dory\", 2016, \"Andrew Stanton\")\n",
    "dvdCollection[9] = findingDoryDVD\n",
    "\n",
    "lionKingDVD = DVD(\"The Lion King\", 2019, \"Jon Favreau\")\n",
    "dvdCollection[2] = lionKingDVD"
   ]
  },
  {
   "cell_type": "code",
   "execution_count": 5,
   "id": "35e85404",
   "metadata": {},
   "outputs": [],
   "source": [
    "# Notice that we put The Incredibles into the Array at index 3. \n",
    "# What happens if we now run this next piece of code?\n",
    "\n",
    "starWarsDVD = DVD(\"Star Wars\", 1977, \"George Lucas\");\n",
    "dvdCollection[3] = starWarsDVD"
   ]
  },
  {
   "cell_type": "markdown",
   "id": "6dbaba27",
   "metadata": {},
   "source": [
    "Because we just put Star Wars into the Array at index 3, The Incredibles is no longer in the Array. It has been overwritten! If we still have the incrediblesDVD variable in scope, then the DVD still exists in the computer's memory. If not though, it's totally gone!"
   ]
  },
  {
   "cell_type": "code",
   "execution_count": 7,
   "id": "8ca8bf7a",
   "metadata": {},
   "outputs": [
    {
     "name": "stdout",
     "output_type": "stream",
     "text": [
      "The Avengers, directed by Joss Whedon, released in 2012\n",
      "None\n",
      "Star Wars, directed by George Lucas, released in 1977\n"
     ]
    }
   ],
   "source": [
    "# Print out what's in indexes 7, 10, and 3.\n",
    "print(dvdCollection[7])\n",
    "print(dvdCollection[10])\n",
    "print(dvdCollection[3])"
   ]
  },
  {
   "cell_type": "code",
   "execution_count": 8,
   "id": "50b10656",
   "metadata": {},
   "outputs": [
    {
     "name": "stdout",
     "output_type": "stream",
     "text": [
      "[1, 4, 9, 16, 25, 36, 49, 64, 81, 100]\n"
     ]
    }
   ],
   "source": [
    "# Writing Items into an Array with a Loop\n",
    "# Writing Items into a List with a Loop\n",
    "\n",
    "square_numbers = [0] * 10\n",
    "\n",
    "# Go through each of the list indexes, from 0 to 9.\n",
    "for i in range(10):\n",
    "    # We need to be careful with the 0-indexing. The next square number\n",
    "    # is given by (i + 1) * (i + 1).\n",
    "    # Calculate it and insert it into the list at index i.\n",
    "    square = (i + 1) * (i + 1)\n",
    "    square_numbers[i] = square\n",
    "\n",
    "# Print the resulting list\n",
    "print(square_numbers)\n"
   ]
  },
  {
   "cell_type": "code",
   "execution_count": 9,
   "id": "6f14e85d",
   "metadata": {},
   "outputs": [
    {
     "name": "stdout",
     "output_type": "stream",
     "text": [
      "1\n",
      "4\n",
      "9\n",
      "16\n",
      "25\n",
      "36\n",
      "49\n",
      "64\n",
      "81\n",
      "100\n"
     ]
    }
   ],
   "source": [
    "# Reading Items from an Array with a Loop\n",
    "# Go through each of the list indexes, from 0 to 9.\n",
    "for i in range(10):\n",
    "    # Access and print what's at the i'th index.\n",
    "    print(square_numbers[i])"
   ]
  },
  {
   "cell_type": "code",
   "execution_count": 10,
   "id": "0ed8fd6f",
   "metadata": {},
   "outputs": [
    {
     "name": "stdout",
     "output_type": "stream",
     "text": [
      "1\n",
      "4\n",
      "9\n",
      "16\n",
      "25\n",
      "36\n",
      "49\n",
      "64\n",
      "81\n",
      "100\n"
     ]
    }
   ],
   "source": [
    "# there's a more elegant way of printing out the values of an Array\n",
    "# —a variant of the for loop, commonly referred to as a \"for each\" loop.\n",
    "# For each VALUE in the list.\n",
    "for square in square_numbers:\n",
    "    # Print the current value of square.\n",
    "    print(square)"
   ]
  },
  {
   "cell_type": "markdown",
   "id": "1b435467",
   "metadata": {},
   "source": [
    "### Array Capacity VS Length\n",
    "If somebody asks you how long the DVD Array is, what would your answer be?\n",
    "\n",
    "There are two different answers you might have given.\n",
    "\n",
    "    The number of DVDs the box could hold, if it was full, or\n",
    "    The number of DVDs currently in the box.\n",
    "\n",
    "Both answers are correct, and both have very different meanings! It's important to understand the difference between them, and use them correctly. We call the first one the capacity of the Array, and the second one the length of the Array."
   ]
  },
  {
   "cell_type": "code",
   "execution_count": 11,
   "id": "23c27280",
   "metadata": {},
   "outputs": [
    {
     "name": "stdout",
     "output_type": "stream",
     "text": [
      "The Array has a capacity of 10\n"
     ]
    }
   ],
   "source": [
    "# In Python, you can use the len() function to get the length (capacity) of a list.\n",
    "capacity = len(square_numbers)\n",
    "print(\"The Array has a capacity of\", capacity)"
   ]
  },
  {
   "cell_type": "code",
   "execution_count": 12,
   "id": "ea13adff",
   "metadata": {},
   "outputs": [
    {
     "name": "stdout",
     "output_type": "stream",
     "text": [
      "The List has a capacity of 6\n",
      "The List has a length of 3\n"
     ]
    }
   ],
   "source": [
    "# Create a new list with a capacity of 6.\n",
    "my_list = [0] * 6\n",
    "\n",
    "# Current length is 0 because it has 0 elements.\n",
    "length = 0\n",
    "\n",
    "# Add 3 items into it.\n",
    "for i in range(3):\n",
    "    my_list[i] = i * i\n",
    "    # Each time we add an element, the length goes up by one.\n",
    "    length += 1\n",
    "\n",
    "print(\"The List has a capacity of\", len(my_list))\n",
    "print(\"The List has a length of\", length)\n"
   ]
  },
  {
   "cell_type": "markdown",
   "id": "038fcbc0",
   "metadata": {},
   "source": [
    "#### Handling Array Parameters\n",
    "\n",
    "Most Array questions on LeetCode have an Array passed in as a parameter, with no \"length\" or \"capacity\" parameter. What do we mean by this? Well, let's look at an example. Here is the description for the first problem you'll be asked to solve.\n",
    "\n",
    "The only parameter is nums; an Array. You couldn't possibly solve this question without knowing how long nums is. Well, luckily it's straightforward. When an Array is given as a parameter, without any additional information, you can safely assume that length == capacity. That is, the Array is the exact right size to hold all of it's data. We can, therefore, use .length.\n",
    "\n",
    "Be careful though, Array's are 0-indexed. The capacity/ length is a number of items, not a highest index. The highest index is .length - 1. Therefore, to iterate over all items in the Array, we can do the following."
   ]
  },
  {
   "cell_type": "code",
   "execution_count": null,
   "id": "ef076104",
   "metadata": {},
   "outputs": [],
   "source": [
    "class Solution:\n",
    "    def findMaxConsecutiveOnes(self, nums):\n",
    "        # Hint: Initialize and declare a variable here to \n",
    "        # keep track of how many 1's you've seen in a row.\n",
    "        max_count = 0\n",
    "        current_count = 0\n",
    "\n",
    "        for num in nums:\n",
    "            if num == 1:\n",
    "                current_count += 1\n",
    "                max_count = max(max_count, current_count)\n",
    "            else:\n",
    "                current_count = 0\n",
    "\n",
    "        return max_count\n"
   ]
  },
  {
   "cell_type": "markdown",
   "id": "b9a18b31",
   "metadata": {},
   "source": [
    "Quiz 1: Max Consecutive Ones\n",
    "\n",
    "Given a binary array nums, return the maximum number of consecutive 1's in the array.\n",
    "\n",
    "    Example 1:\n",
    "    Input: nums = [1,1,0,1,1,1]\n",
    "    Output: 3\n",
    "    Explanation: The first two digits or the last three digits are consecutive 1s. The maximum number of consecutive 1s is 3.\n",
    "\n",
    "\n",
    "    Example 2:\n",
    "    Input: nums = [1,0,1,1,0,1]\n",
    "    Output: 2\n",
    "\n",
    "    Constraints:\n",
    "    1 <= nums.length <= 105\n",
    "    nums[i] is either 0 or 1.\n",
    "\n",
    "    Python:\n",
    "    class Solution(object):\n",
    "        def findMaxConsecutiveOnes(self, nums):\n",
    "            \"\"\"\n",
    "            :type nums: List[int]\n",
    "            :rtype: int\n",
    "            \"\"\"\n"
   ]
  },
  {
   "cell_type": "markdown",
   "id": "dcb8b0c4",
   "metadata": {},
   "source": [
    "Quiz 2: Find Numbers with Even Number of Digits\n",
    "\n",
    "Given an array nums of integers, return how many of them contain an even number of digits.\n",
    "\n",
    "\n",
    "    Example 1:\n",
    "    Input: nums = [12,345,2,6,7896]\n",
    "    Output: 2\n",
    "    Explanation: \n",
    "    12 contains 2 digits (even number of digits). \n",
    "    345 contains 3 digits (odd number of digits). \n",
    "    2 contains 1 digit (odd number of digits). \n",
    "    6 contains 1 digit (odd number of digits). \n",
    "    7896 contains 4 digits (even number of digits). \n",
    "    Therefore only 12 and 7896 contain an even number of digits.\n",
    "\n",
    "    Example 2:\n",
    "    Input: nums = [555,901,482,1771]\n",
    "    Output: 1 \n",
    "    Explanation: \n",
    "    Only 1771 contains an even number of digits.\n",
    "\n",
    "\n",
    "    Constraints:\n",
    "\n",
    "    1 <= nums.length <= 500\n",
    "    1 <= nums[i] <= 105\n",
    "\n",
    "    Python: \n",
    "    class Solution(object):\n",
    "        def findNumbers(self, nums):\n",
    "            \"\"\"\n",
    "            :type nums: List[int]\n",
    "            :rtype: int\n",
    "            \"\"\"\n",
    "\n",
    "\n",
    "\n"
   ]
  },
  {
   "cell_type": "markdown",
   "id": "dd778fb1",
   "metadata": {},
   "source": [
    "Quiz 3: Squares of a Sorted Array\n",
    "   \n",
    "Given an integer array nums sorted in non-decreasing order, return an array of the squares of each number sorted in non-decreasing order.\n",
    "\n",
    "    Example 1:\n",
    "    Input: nums = [-4,-1,0,3,10]\n",
    "    Output: [0,1,9,16,100]\n",
    "    Explanation: After squaring, the array becomes [16,1,0,9,100].\n",
    "    After sorting, it becomes [0,1,9,16,100].\n",
    "\n",
    "    Example 2:\n",
    "    Input: nums = [-7,-3,2,3,11]\n",
    "    Output: [4,9,9,49,121]\n",
    "\n",
    "\n",
    "    Constraints:\n",
    "    1 <= nums.length <= 104\n",
    "    -104 <= nums[i] <= 104\n",
    "    nums is sorted in non-decreasing order.\n",
    " \n",
    "\n",
    "Follow up: Squaring each element and sorting the new array is very trivial, could you find an O(n) solution using a different approach?\n",
    "\n",
    "    Python: \n",
    "    class Solution(object):\n",
    "    def sortedSquares(self, nums):\n",
    "        \"\"\"\n",
    "        :type nums: List[int]\n",
    "        :rtype: List[int]\n",
    "        \"\"\""
   ]
  },
  {
   "cell_type": "markdown",
   "id": "8476953a",
   "metadata": {},
   "source": [
    "#### Basic Array Operations\n",
    "\n",
    "    Now that we have a fairly good understanding of what an Array actually is, and how it is stored inside the computer's physical memory, the next important thing to look at is all the operations that Arrays support. An Array is a data structure, which means that it stores data in a specific format and supports certain operations on the data it stores. Consider the DVD inventory management software from the introduction section. Let's look at some operations you might want to perform using this software:\n",
    "\n",
    "* Insert a new DVD into the collection at a specific location.\n",
    "* Delete a DVD from the existing collection if it doesn't make sense to keep it in the inventory anymore.\n",
    "* Search for a particular DVD in the collection. This is one of the most commonly executed operation on our collection, because our inventory management software would be used hundreds of times a day to look for a particular DVD asked for by the user.\n",
    "    \n",
    "    In this section, we'll be looking at the three basic operations that are supported by almost every data structure; insertion, deletion, and search."
   ]
  },
  {
   "cell_type": "code",
   "execution_count": null,
   "id": "f8a17f7e",
   "metadata": {},
   "outputs": [],
   "source": [
    "#### Array Insertions"
   ]
  },
  {
   "cell_type": "code",
   "execution_count": null,
   "id": "be086b4b",
   "metadata": {},
   "outputs": [],
   "source": []
  },
  {
   "cell_type": "code",
   "execution_count": null,
   "id": "fc453105",
   "metadata": {},
   "outputs": [],
   "source": []
  },
  {
   "cell_type": "code",
   "execution_count": null,
   "id": "9b44c8b4",
   "metadata": {},
   "outputs": [],
   "source": []
  }
 ],
 "metadata": {
  "kernelspec": {
   "display_name": "Python 3 (ipykernel)",
   "language": "python",
   "name": "python3"
  },
  "language_info": {
   "codemirror_mode": {
    "name": "ipython",
    "version": 3
   },
   "file_extension": ".py",
   "mimetype": "text/x-python",
   "name": "python",
   "nbconvert_exporter": "python",
   "pygments_lexer": "ipython3",
   "version": "3.11.5"
  }
 },
 "nbformat": 4,
 "nbformat_minor": 5
}
